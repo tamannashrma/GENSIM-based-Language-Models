{
  "cells": [
    {
      "cell_type": "markdown",
      "metadata": {
        "id": "view-in-github",
        "colab_type": "text"
      },
      "source": [
        "<a href=\"https://colab.research.google.com/github/tamannashrma/GENSIM-based-Language-Models/blob/main/fgetguestcardinput.ipynb\" target=\"_parent\"><img src=\"https://colab.research.google.com/assets/colab-badge.svg\" alt=\"Open In Colab\"/></a>"
      ]
    },
    {
      "cell_type": "code",
      "execution_count": 1,
      "metadata": {
        "colab": {
          "base_uri": "https://localhost:8080/"
        },
        "id": "gsGv06i8PKSG",
        "outputId": "00a8f4c5-e868-4663-a664-c516187b1199"
      },
      "outputs": [
        {
          "output_type": "stream",
          "name": "stdout",
          "text": [
            "Collecting langchain\n",
            "  Downloading langchain-0.0.244-py3-none-any.whl (1.4 MB)\n",
            "\u001b[2K     \u001b[90m━━━━━━━━━━━━━━━━━━━━━━━━━━━━━━━━━━━━━━━━\u001b[0m \u001b[32m1.4/1.4 MB\u001b[0m \u001b[31m12.0 MB/s\u001b[0m eta \u001b[36m0:00:00\u001b[0m\n",
            "\u001b[?25hRequirement already satisfied: PyYAML>=5.4.1 in /usr/local/lib/python3.10/dist-packages (from langchain) (6.0.1)\n",
            "Requirement already satisfied: SQLAlchemy<3,>=1.4 in /usr/local/lib/python3.10/dist-packages (from langchain) (2.0.19)\n",
            "Requirement already satisfied: aiohttp<4.0.0,>=3.8.3 in /usr/local/lib/python3.10/dist-packages (from langchain) (3.8.5)\n",
            "Requirement already satisfied: async-timeout<5.0.0,>=4.0.0 in /usr/local/lib/python3.10/dist-packages (from langchain) (4.0.2)\n",
            "Collecting dataclasses-json<0.6.0,>=0.5.7 (from langchain)\n",
            "  Downloading dataclasses_json-0.5.13-py3-none-any.whl (26 kB)\n",
            "Collecting langsmith<0.1.0,>=0.0.11 (from langchain)\n",
            "  Downloading langsmith-0.0.14-py3-none-any.whl (29 kB)\n",
            "Requirement already satisfied: numexpr<3.0.0,>=2.8.4 in /usr/local/lib/python3.10/dist-packages (from langchain) (2.8.4)\n",
            "Requirement already satisfied: numpy<2,>=1 in /usr/local/lib/python3.10/dist-packages (from langchain) (1.22.4)\n",
            "Collecting openapi-schema-pydantic<2.0,>=1.2 (from langchain)\n",
            "  Downloading openapi_schema_pydantic-1.2.4-py3-none-any.whl (90 kB)\n",
            "\u001b[2K     \u001b[90m━━━━━━━━━━━━━━━━━━━━━━━━━━━━━━━━━━━━━━━━\u001b[0m \u001b[32m90.0/90.0 kB\u001b[0m \u001b[31m7.3 MB/s\u001b[0m eta \u001b[36m0:00:00\u001b[0m\n",
            "\u001b[?25hRequirement already satisfied: pydantic<2,>=1 in /usr/local/lib/python3.10/dist-packages (from langchain) (1.10.11)\n",
            "Requirement already satisfied: requests<3,>=2 in /usr/local/lib/python3.10/dist-packages (from langchain) (2.27.1)\n",
            "Requirement already satisfied: tenacity<9.0.0,>=8.1.0 in /usr/local/lib/python3.10/dist-packages (from langchain) (8.2.2)\n",
            "Requirement already satisfied: attrs>=17.3.0 in /usr/local/lib/python3.10/dist-packages (from aiohttp<4.0.0,>=3.8.3->langchain) (23.1.0)\n",
            "Requirement already satisfied: charset-normalizer<4.0,>=2.0 in /usr/local/lib/python3.10/dist-packages (from aiohttp<4.0.0,>=3.8.3->langchain) (2.0.12)\n",
            "Requirement already satisfied: multidict<7.0,>=4.5 in /usr/local/lib/python3.10/dist-packages (from aiohttp<4.0.0,>=3.8.3->langchain) (6.0.4)\n",
            "Requirement already satisfied: yarl<2.0,>=1.0 in /usr/local/lib/python3.10/dist-packages (from aiohttp<4.0.0,>=3.8.3->langchain) (1.9.2)\n",
            "Requirement already satisfied: frozenlist>=1.1.1 in /usr/local/lib/python3.10/dist-packages (from aiohttp<4.0.0,>=3.8.3->langchain) (1.4.0)\n",
            "Requirement already satisfied: aiosignal>=1.1.2 in /usr/local/lib/python3.10/dist-packages (from aiohttp<4.0.0,>=3.8.3->langchain) (1.3.1)\n",
            "Collecting marshmallow<4.0.0,>=3.18.0 (from dataclasses-json<0.6.0,>=0.5.7->langchain)\n",
            "  Downloading marshmallow-3.20.1-py3-none-any.whl (49 kB)\n",
            "\u001b[2K     \u001b[90m━━━━━━━━━━━━━━━━━━━━━━━━━━━━━━━━━━━━━━━━\u001b[0m \u001b[32m49.4/49.4 kB\u001b[0m \u001b[31m4.1 MB/s\u001b[0m eta \u001b[36m0:00:00\u001b[0m\n",
            "\u001b[?25hCollecting typing-inspect<1,>=0.4.0 (from dataclasses-json<0.6.0,>=0.5.7->langchain)\n",
            "  Downloading typing_inspect-0.9.0-py3-none-any.whl (8.8 kB)\n",
            "Requirement already satisfied: typing-extensions>=4.2.0 in /usr/local/lib/python3.10/dist-packages (from pydantic<2,>=1->langchain) (4.7.1)\n",
            "Requirement already satisfied: urllib3<1.27,>=1.21.1 in /usr/local/lib/python3.10/dist-packages (from requests<3,>=2->langchain) (1.26.16)\n",
            "Requirement already satisfied: certifi>=2017.4.17 in /usr/local/lib/python3.10/dist-packages (from requests<3,>=2->langchain) (2023.7.22)\n",
            "Requirement already satisfied: idna<4,>=2.5 in /usr/local/lib/python3.10/dist-packages (from requests<3,>=2->langchain) (3.4)\n",
            "Requirement already satisfied: greenlet!=0.4.17 in /usr/local/lib/python3.10/dist-packages (from SQLAlchemy<3,>=1.4->langchain) (2.0.2)\n",
            "Requirement already satisfied: packaging>=17.0 in /usr/local/lib/python3.10/dist-packages (from marshmallow<4.0.0,>=3.18.0->dataclasses-json<0.6.0,>=0.5.7->langchain) (23.1)\n",
            "Collecting mypy-extensions>=0.3.0 (from typing-inspect<1,>=0.4.0->dataclasses-json<0.6.0,>=0.5.7->langchain)\n",
            "  Downloading mypy_extensions-1.0.0-py3-none-any.whl (4.7 kB)\n",
            "Installing collected packages: mypy-extensions, marshmallow, typing-inspect, openapi-schema-pydantic, langsmith, dataclasses-json, langchain\n",
            "Successfully installed dataclasses-json-0.5.13 langchain-0.0.244 langsmith-0.0.14 marshmallow-3.20.1 mypy-extensions-1.0.0 openapi-schema-pydantic-1.2.4 typing-inspect-0.9.0\n",
            "Collecting openai\n",
            "  Downloading openai-0.27.8-py3-none-any.whl (73 kB)\n",
            "\u001b[2K     \u001b[90m━━━━━━━━━━━━━━━━━━━━━━━━━━━━━━━━━━━━━━━━\u001b[0m \u001b[32m73.6/73.6 kB\u001b[0m \u001b[31m1.4 MB/s\u001b[0m eta \u001b[36m0:00:00\u001b[0m\n",
            "\u001b[?25hRequirement already satisfied: requests>=2.20 in /usr/local/lib/python3.10/dist-packages (from openai) (2.27.1)\n",
            "Requirement already satisfied: tqdm in /usr/local/lib/python3.10/dist-packages (from openai) (4.65.0)\n",
            "Requirement already satisfied: aiohttp in /usr/local/lib/python3.10/dist-packages (from openai) (3.8.5)\n",
            "Requirement already satisfied: urllib3<1.27,>=1.21.1 in /usr/local/lib/python3.10/dist-packages (from requests>=2.20->openai) (1.26.16)\n",
            "Requirement already satisfied: certifi>=2017.4.17 in /usr/local/lib/python3.10/dist-packages (from requests>=2.20->openai) (2023.7.22)\n",
            "Requirement already satisfied: charset-normalizer~=2.0.0 in /usr/local/lib/python3.10/dist-packages (from requests>=2.20->openai) (2.0.12)\n",
            "Requirement already satisfied: idna<4,>=2.5 in /usr/local/lib/python3.10/dist-packages (from requests>=2.20->openai) (3.4)\n",
            "Requirement already satisfied: attrs>=17.3.0 in /usr/local/lib/python3.10/dist-packages (from aiohttp->openai) (23.1.0)\n",
            "Requirement already satisfied: multidict<7.0,>=4.5 in /usr/local/lib/python3.10/dist-packages (from aiohttp->openai) (6.0.4)\n",
            "Requirement already satisfied: async-timeout<5.0,>=4.0.0a3 in /usr/local/lib/python3.10/dist-packages (from aiohttp->openai) (4.0.2)\n",
            "Requirement already satisfied: yarl<2.0,>=1.0 in /usr/local/lib/python3.10/dist-packages (from aiohttp->openai) (1.9.2)\n",
            "Requirement already satisfied: frozenlist>=1.1.1 in /usr/local/lib/python3.10/dist-packages (from aiohttp->openai) (1.4.0)\n",
            "Requirement already satisfied: aiosignal>=1.1.2 in /usr/local/lib/python3.10/dist-packages (from aiohttp->openai) (1.3.1)\n",
            "Installing collected packages: openai\n",
            "Successfully installed openai-0.27.8\n",
            "Collecting colab-env\n",
            "  Downloading colab-env-0.2.0.tar.gz (4.7 kB)\n",
            "  Preparing metadata (setup.py) ... \u001b[?25l\u001b[?25hdone\n",
            "Collecting python-dotenv<1.0,>=0.10.0 (from colab-env)\n",
            "  Downloading python_dotenv-0.21.1-py3-none-any.whl (19 kB)\n",
            "Building wheels for collected packages: colab-env\n",
            "  Building wheel for colab-env (setup.py) ... \u001b[?25l\u001b[?25hdone\n",
            "  Created wheel for colab-env: filename=colab_env-0.2.0-py3-none-any.whl size=3806 sha256=56318f5095eb9d9c3ca1149bffaf02e91742b3dc613cdf09df47df7d8b8f12e5\n",
            "  Stored in directory: /root/.cache/pip/wheels/ae/36/4f/466c2cd4db5d08f317893a920c4a0f58a81459ee3bdb136d35\n",
            "Successfully built colab-env\n",
            "Installing collected packages: python-dotenv, colab-env\n",
            "Successfully installed colab-env-0.2.0 python-dotenv-0.21.1\n"
          ]
        }
      ],
      "source": [
        "!pip install -U langchain\n",
        "!pip install -U openai\n",
        "!pip install -U colab-env\n"
      ]
    },
    {
      "cell_type": "code",
      "execution_count": 2,
      "metadata": {
        "id": "bHS7vPsTUD4H",
        "colab": {
          "base_uri": "https://localhost:8080/"
        },
        "outputId": "a69684db-1566-46de-b135-89169daccc49"
      },
      "outputs": [
        {
          "output_type": "stream",
          "name": "stdout",
          "text": [
            "Mounted at /content/gdrive\n"
          ]
        }
      ],
      "source": [
        "import openai\n",
        "import requests\n",
        "import re\n",
        "import json\n",
        "import colab_env\n",
        "import os\n"
      ]
    },
    {
      "cell_type": "code",
      "source": [
        "#Define guest card function\n",
        "prompt = \"\"\" You are a conversational bot for property ID '1528252253585581240' requesting information from the user (if the user wants to be contacted/called back/get in touch) -- one field at a time. The user must provide mandatory fields while and it's up to the users if they wish to provide optional fields fields are described by the following JSON Structure:\n",
        "                  {\n",
        "                    \"Mandatory Fields\": [\n",
        "                      \"firstName\",\n",
        "                      \"lastName\",\n",
        "                      \"email\",\n",
        "\n",
        "                    ],\n",
        "                    \"Optional Fields\": [\n",
        "                    \"desiredBedrooms\",\n",
        "                    \"desiredMoveIn date\",\n",
        "                    \"desiredPriceLow\",\n",
        "                    \"desiredPriceHigh\",\n",
        "                    \"phone number\"\n",
        "                    ]\n",
        "                  }\n",
        "                  Extract details from the user inputs.\n",
        "\n",
        "                  Ask the user the questions needed to gather the required fields.\n",
        "\n",
        "                  - For the name, request both the first name and last name. If they provide both in the response, parse them into first and last names. If the user enters a keyboard mash in the name like 'asdf' or 'qwerty', request that they provide it again or confirm the name.\n",
        "\n",
        "                  - Assume that any 10-digit number that looks like a phone number, which the user provides, is a phone number.\n",
        "\n",
        "                  - For the bedroom type, if the user specifies 'studio', please assume 0. A property can have any number of bedrooms.\n",
        "\n",
        "                  - Convert the user-provided move-in date to the MM/DD/YYYY format.\n",
        "\n",
        "                  - If a single amount is given for rent, convert it to a range by adding and subtracting 500 from the amount.\n",
        "\n",
        "                  - The propertyId is always '1528252253585581240'.\n",
        "\n",
        "                  - Accept questions in comments. Any additional information that the user provides that's not captured in other fields should go into comments.\n",
        "\n",
        "                  - For dates, assume today's date is June 8, 2023.\n",
        "\n",
        "                  - If the user gives input as 'n/a', assume it's missing.\n",
        "\n",
        "                  Convert the gathered information into JSON before confirming the final summary.\n",
        "\n",
        "                  Here's an example JSON output:\n",
        "                  {\n",
        "                    \"propertyId\": \"\",\n",
        "                    \"firstName\": \"\",\n",
        "                    \"lastName\": \"\",\n",
        "                    \"email\": \"\",\n",
        "                    \"phone number\": \"\",\n",
        "                    \"desiredBedrooms\": \"\",\n",
        "                    \"desiredMoveIn date\": \"\",\n",
        "                    \"desiredPriceLow\": \"\",\n",
        "                    \"desiredPriceHigh\": \"\",\n",
        "                    \"comment\": \"\",\n",
        "                    \"source\": \"\"\n",
        "                  }\n",
        "\n",
        "                  If any value in the JSON is blank, 'n/a', missing, \"\", or None, please remove the key-value from the JSON.\n",
        "\n",
        "                  Once you have gathered the required information, ask the user if they wish to add anything to the JSON structure.\n",
        "                  You can provide a summary of the gathered information in JSON format.\n",
        "\n",
        "                  For example:\n",
        "                  \"Based on your inputs, here's a summary of the gathered information:\n",
        "                  {\n",
        "                    \"firstName\": \"John\",\n",
        "                    \"lastName\": \"Doe\",\n",
        "                    \"email\": \"johndoe@example.com\",\n",
        "                    \"phone number\": \"+1234567890\",\n",
        "                    \"desiredBedrooms\": \"2\",\n",
        "                    \"desiredMoveIn date\": \"07/15/2023\",\n",
        "                    \"desiredPriceLow\": \"$2000\",\n",
        "                    \"desiredPriceHigh\": \"$2500\",\n",
        "                    \"comment\": \"Additional comments here\",\n",
        "                    \"source\": \"Chatbot\"\n",
        "                  }\n",
        "\n",
        "                  Strictly output the JSON only.\n",
        "                  \"\"\"\n",
        "def gc_func():\n",
        "  class ChatApp:\n",
        "      def __init__(self):\n",
        "          openai.api_key = os.getenv(\"OPENAI_API_KEY\")\n",
        "\n",
        "      userprompt = \"\"\" Everytime a User inputs, extract information from that input and check for the fields that have not ben provided and ask User to provide those fields one-by-one.\n",
        "      \"\"\"\n",
        "      messages = [\n",
        "          {\"role\": \"system\", \"content\": prompt},\n",
        "         {\"role\": \"user\", \"content\": userprompt},\n",
        "           ]\n",
        "\n",
        "      def chat(self, message):\n",
        "          self.messages.append({\"role\": \"user\", \"content\": message})\n",
        "          response = openai.ChatCompletion.create(\n",
        "              model=\"gpt-3.5-turbo-0613\",\n",
        "              temperature=0.1,\n",
        "              messages=self.messages\n",
        "          )\n",
        "          self.messages.append({\"role\": \"assistant\", \"content\": response[\"choices\"][0][\"message\"].content})\n",
        "          return response[\"choices\"][0][\"message\"][\"content\"]\n",
        "\n",
        "  app = ChatApp()\n",
        "  json_done=False\n",
        "  while json_done == False:\n",
        "      res = app.chat(input())\n",
        "      print(res)\n",
        "      try:\n",
        "        my_json = re.findall(\"\\{[\\s\\S]*\\}\", res)[0]\n",
        "        json_done = True\n",
        "      except:\n",
        "        pass\n",
        "      if \"}\" in res:\n",
        "        json_done = True\n",
        "\n",
        "  return my_json"
      ],
      "metadata": {
        "id": "1omL4S4YeX5I"
      },
      "execution_count": 4,
      "outputs": []
    },
    {
      "cell_type": "code",
      "execution_count": 5,
      "metadata": {
        "colab": {
          "base_uri": "https://localhost:8080/",
          "height": 784
        },
        "id": "J0tmX1eTUD-B",
        "outputId": "2c99562c-27f7-445f-b5b5-226ed75e8770"
      },
      "outputs": [
        {
          "output_type": "stream",
          "name": "stdout",
          "text": [
            "Someone cal me back\n",
            "Sure, I can help you with that. Could you please provide me with your first name?\n",
            "Tamna\n",
            "Thank you for providing your first name, Tamna. Could you also please provide me with your last name?\n",
            "Sharma\n",
            "Thank you for providing your last name, Sharma. Could you please provide me with your email address?\n",
            "Tama22@gmail.com\n",
            "Thank you for providing your email address, Tama22@gmail.com. Could you please provide me with your phone number?\n",
            "9999999999\n",
            "Thank you for providing your phone number, 9999999999. \n",
            "\n",
            "Now, let's move on to the optional fields. Could you please provide me with the number of desired bedrooms? If you are looking for a studio apartment, please enter 0.\n",
            "1\n",
            "Thank you for providing the number of desired bedrooms as 1. \n",
            "\n",
            "Next, could you please provide me with your desired move-in date? Please enter it in the format MM/DD/YYYY.\n",
            "22/11/2023\n",
            "Thank you for providing your desired move-in date as 22/11/2023. \n",
            "\n",
            "Now, could you please provide me with your desired price range for the property? If you have a specific amount in mind, please provide a single value. Otherwise, you can provide a range by giving a low and high value.\n",
            "20000\n",
            "Thank you for providing your desired price as 20000. \n",
            "\n",
            "To clarify, is this the low or high end of your desired price range?\n",
            "high\n",
            "Thank you for clarifying that 20000 is the high end of your desired price range. \n",
            "\n",
            "Based on the information you have provided, here's a summary of the gathered information:\n",
            "\n",
            "{\n",
            "  \"propertyId\": \"1528252253585581240\",\n",
            "  \"firstName\": \"Tamna\",\n",
            "  \"lastName\": \"Sharma\",\n",
            "  \"email\": \"Tama22@gmail.com\",\n",
            "  \"phone number\": \"9999999999\",\n",
            "  \"desiredBedrooms\": \"1\",\n",
            "  \"desiredMoveIn date\": \"11/22/2023\",\n",
            "  \"desiredPriceHigh\": \"$20000\"\n",
            "}\n",
            "\n",
            "Is there anything else you would like to add to this information?\n"
          ]
        },
        {
          "output_type": "execute_result",
          "data": {
            "text/plain": [
              "'{\\n  \"propertyId\": \"1528252253585581240\",\\n  \"firstName\": \"Tamna\",\\n  \"lastName\": \"Sharma\",\\n  \"email\": \"Tama22@gmail.com\",\\n  \"phone number\": \"9999999999\",\\n  \"desiredBedrooms\": \"1\",\\n  \"desiredMoveIn date\": \"11/22/2023\",\\n  \"desiredPriceHigh\": \"$20000\"\\n}'"
            ],
            "application/vnd.google.colaboratory.intrinsic+json": {
              "type": "string"
            }
          },
          "metadata": {},
          "execution_count": 5
        }
      ],
      "source": [
        "gc_func()"
      ]
    },
    {
      "cell_type": "code",
      "execution_count": 7,
      "metadata": {
        "id": "Rslv7k_sUEDk",
        "colab": {
          "base_uri": "https://localhost:8080/",
          "height": 521
        },
        "outputId": "6f552e0b-c8ff-495b-a852-ca98dccdb1df"
      },
      "outputs": [
        {
          "output_type": "stream",
          "name": "stdout",
          "text": [
            "My name is Tashi Mishra and call me\n",
            "Thank you for providing your name, Tashi Mishra. Could you please provide your email address?\n",
            "tashi @gmail.com\n",
            "Thank you for providing your email address, tashi@gmail.com. Could you please provide your phone number?\n",
            "n/a\n",
            "Thank you for letting me know. Could you please provide the number of desired bedrooms?\n",
            "n/a\n",
            "Thank you for letting me know. Could you please provide your desired move-in date?\n",
            "n/a\n",
            "Thank you for letting me know. Could you please provide your desired price range?\n",
            "20000\n",
            "Thank you for providing the desired price range. Just to confirm, is the price range $20,000?\n",
            "yes\n",
            "Thank you for confirming. Could you please provide any additional comments or information you would like to include?\n",
            "No\n",
            "Thank you for providing all the necessary information. Here's a summary of the gathered information:\n",
            "\n",
            "{\n",
            "  \"propertyId\": \"1528252253585581240\",\n",
            "  \"firstName\": \"Tashi\",\n",
            "  \"lastName\": \"Mishra\",\n",
            "  \"email\": \"tashi@gmail.com\",\n",
            "  \"desiredPriceLow\": \"$19500\",\n",
            "  \"desiredPriceHigh\": \"$20500\"\n",
            "}\n",
            "\n",
            "Please let me know if you would like to add anything else to the information.\n"
          ]
        },
        {
          "output_type": "execute_result",
          "data": {
            "text/plain": [
              "'{\\n  \"propertyId\": \"1528252253585581240\",\\n  \"firstName\": \"Tashi\",\\n  \"lastName\": \"Mishra\",\\n  \"email\": \"tashi@gmail.com\",\\n  \"desiredPriceLow\": \"$19500\",\\n  \"desiredPriceHigh\": \"$20500\"\\n}'"
            ],
            "application/vnd.google.colaboratory.intrinsic+json": {
              "type": "string"
            }
          },
          "metadata": {},
          "execution_count": 7
        }
      ],
      "source": [
        "gc_func()"
      ]
    },
    {
      "cell_type": "code",
      "source": [
        "gc_func()"
      ],
      "metadata": {
        "colab": {
          "base_uri": "https://localhost:8080/",
          "height": 246
        },
        "id": "4lFKEieU4sxn",
        "outputId": "102cf612-0d58-4b59-ab1a-db9bc06c1d73"
      },
      "execution_count": null,
      "outputs": [
        {
          "output_type": "stream",
          "name": "stdout",
          "text": [
            "Interested in the property but have questions about the amenities. Can someone call me at 9160102134? My name is Ethan Thompson and my email is ethan@example.com.\n",
            "Based on your inputs, here's a summary of the gathered information:\n",
            "{\n",
            "  \"firstName\": \"Ethan\",\n",
            "  \"lastName\": \"Thompson\",\n",
            "  \"email\": \"ethan@example.com\",\n",
            "  \"telephone\": \"9160102134\",\n",
            "  \"source\": \"Chatbot\"\n",
            "}\n",
            "\n",
            "Is there anything else you would like to add?\n"
          ]
        },
        {
          "output_type": "execute_result",
          "data": {
            "text/plain": [
              "'{\\n  \"firstName\": \"Ethan\",\\n  \"lastName\": \"Thompson\",\\n  \"email\": \"ethan@example.com\",\\n  \"telephone\": \"9160102134\",\\n  \"source\": \"Chatbot\"\\n}'"
            ],
            "application/vnd.google.colaboratory.intrinsic+json": {
              "type": "string"
            }
          },
          "metadata": {},
          "execution_count": 23
        }
      ]
    },
    {
      "cell_type": "code",
      "source": [
        "gc_func()"
      ],
      "metadata": {
        "colab": {
          "base_uri": "https://localhost:8080/",
          "height": 166
        },
        "id": "_4zy66VS11Zd",
        "outputId": "75029dbd-65a6-4a72-d53a-7ec72c9e1568"
      },
      "execution_count": 3,
      "outputs": [
        {
          "output_type": "error",
          "ename": "NameError",
          "evalue": "ignored",
          "traceback": [
            "\u001b[0;31m---------------------------------------------------------------------------\u001b[0m",
            "\u001b[0;31mNameError\u001b[0m                                 Traceback (most recent call last)",
            "\u001b[0;32m<ipython-input-3-7a9973b1c420>\u001b[0m in \u001b[0;36m<cell line: 1>\u001b[0;34m()\u001b[0m\n\u001b[0;32m----> 1\u001b[0;31m \u001b[0mgc_func\u001b[0m\u001b[0;34m(\u001b[0m\u001b[0;34m)\u001b[0m\u001b[0;34m\u001b[0m\u001b[0;34m\u001b[0m\u001b[0m\n\u001b[0m",
            "\u001b[0;31mNameError\u001b[0m: name 'gc_func' is not defined"
          ]
        }
      ]
    },
    {
      "cell_type": "code",
      "source": [
        "gc_func()"
      ],
      "metadata": {
        "colab": {
          "base_uri": "https://localhost:8080/",
          "height": 330
        },
        "id": "k2L4YgVF5B2x",
        "outputId": "5432c5d2-917a-44e8-af8a-9379a7abfeea"
      },
      "execution_count": null,
      "outputs": [
        {
          "output_type": "stream",
          "name": "stdout",
          "text": [
            "How do I contact the property owner or agent? My name is Ava Roberts and my email is ava@example.com.\n",
            "Thank you for providing your contact information, Ava Roberts. To better assist you, could you please provide your phone number as well?\n",
            "9999999999\n",
            "Thank you for providing your phone number, Ava Roberts. \n",
            "\n",
            "Based on the information you provided, here's a summary of the gathered information:\n",
            "\n",
            "{\n",
            "  \"propertyId\": \"1528252253585581240\",\n",
            "  \"firstName\": \"Ava\",\n",
            "  \"lastName\": \"Roberts\",\n",
            "  \"email\": \"ava@example.com\",\n",
            "  \"telephone\": \"9999999999\"\n",
            "}\n",
            "\n",
            "Is there anything else you would like to add?\n"
          ]
        },
        {
          "output_type": "execute_result",
          "data": {
            "text/plain": [
              "'{\\n  \"propertyId\": \"1528252253585581240\",\\n  \"firstName\": \"Ava\",\\n  \"lastName\": \"Roberts\",\\n  \"email\": \"ava@example.com\",\\n  \"telephone\": \"9999999999\"\\n}'"
            ],
            "application/vnd.google.colaboratory.intrinsic+json": {
              "type": "string"
            }
          },
          "metadata": {},
          "execution_count": 24
        }
      ]
    },
    {
      "cell_type": "code",
      "source": [
        "gc_func()"
      ],
      "metadata": {
        "colab": {
          "base_uri": "https://localhost:8080/",
          "height": 243
        },
        "id": "RuTn6dEP5CEe",
        "outputId": "e99b0b44-cf72-4b78-e324-5d4076571b6b"
      },
      "execution_count": null,
      "outputs": [
        {
          "output_type": "stream",
          "name": "stdout",
          "text": [
            "I am 'Munish Gandhi', email 'mg@hy.ly', I would like to move in by '1st July, 2023' and prefer a one bedroom apartment\n",
            "Great! I have gathered some information from you. Here's a summary of the gathered information:\n",
            "\n",
            "{\n",
            "  \"firstName\": \"Munish\",\n",
            "  \"lastName\": \"Gandhi\",\n",
            "  \"email\": \"mg@hy.ly\",\n",
            "  \"desiredBedrooms\": \"1\",\n",
            "  \"desiredMoveIn\": \"07/01/2023\"\n",
            "}\n",
            "\n",
            "Is there anything else you would like to add?\n"
          ]
        },
        {
          "output_type": "execute_result",
          "data": {
            "text/plain": [
              "'{\\n  \"firstName\": \"Munish\",\\n  \"lastName\": \"Gandhi\",\\n  \"email\": \"mg@hy.ly\",\\n  \"desiredBedrooms\": \"1\",\\n  \"desiredMoveIn\": \"07/01/2023\"\\n}'"
            ],
            "application/vnd.google.colaboratory.intrinsic+json": {
              "type": "string"
            }
          },
          "metadata": {},
          "execution_count": 21
        }
      ]
    },
    {
      "cell_type": "code",
      "source": [
        "gc_func()"
      ],
      "metadata": {
        "colab": {
          "base_uri": "https://localhost:8080/",
          "height": 261
        },
        "id": "0eyYjlty5CO5",
        "outputId": "1ab128f8-2366-4291-c1dc-64cb06e45f7e"
      },
      "execution_count": null,
      "outputs": [
        {
          "output_type": "stream",
          "name": "stdout",
          "text": [
            "I am Rama Challa, email 'Rama@hy.ly', I would like to move in by '1st July, 2023' and prefer a studio apartment\n",
            "Based on your inputs, here's a summary of the gathered information:\n",
            "{\n",
            "  \"firstName\": \"Rama\",\n",
            "  \"lastName\": \"Challa\",\n",
            "  \"email\": \"Rama@hy.ly\",\n",
            "  \"desiredBedrooms\": \"0\",\n",
            "  \"desiredMoveIn\": \"07/01/2023\",\n",
            "  \"source\": \"Chatbot\"\n",
            "}\n",
            "\n",
            "Is there anything else you would like to add?\n"
          ]
        },
        {
          "output_type": "execute_result",
          "data": {
            "text/plain": [
              "'{\\n  \"firstName\": \"Rama\",\\n  \"lastName\": \"Challa\",\\n  \"email\": \"Rama@hy.ly\",\\n  \"desiredBedrooms\": \"0\",\\n  \"desiredMoveIn\": \"07/01/2023\",\\n  \"source\": \"Chatbot\"\\n}'"
            ],
            "application/vnd.google.colaboratory.intrinsic+json": {
              "type": "string"
            }
          },
          "metadata": {},
          "execution_count": 22
        }
      ]
    },
    {
      "cell_type": "code",
      "source": [
        "gc_func()"
      ],
      "metadata": {
        "colab": {
          "base_uri": "https://localhost:8080/",
          "height": 697
        },
        "id": "HBxBPT7v5CZ-",
        "outputId": "40f6ab80-c6cc-417a-f6c4-8b1b9d3ac765"
      },
      "execution_count": null,
      "outputs": [
        {
          "output_type": "stream",
          "name": "stdout",
          "text": [
            "Can someone reach out to me? I'm available from 9 am to 2 pm on weekdays. My name is Benjamin Davis and my email is benjamin@example.com.\n",
            "Sure, I can help you with that. Just to confirm, your name is Benjamin Davis and your email is benjamin@example.com, correct?\n",
            "Yes\n",
            "Great! Thank you for confirming. \n",
            "\n",
            "To assist you further, I need a few more details. Could you please provide me with your phone number?\n",
            "9999999999\n",
            "Thank you for providing your phone number. \n",
            "\n",
            "Now, could you please let me know the number of bedrooms you are looking for? If you are looking for a studio apartment, please enter 'studio'.\n",
            "1\n",
            "Thank you for providing the number of bedrooms you are looking for.\n",
            "\n",
            "Next, could you please provide me with your desired move-in date? If you don't have a specific date in mind, you can enter 'n/a'.\n",
            "21/12/2023\n",
            "Thank you for providing your desired move-in date. \n",
            "\n",
            "Lastly, could you please provide me with your desired price range for the property? If you have a specific budget in mind, please provide a single amount. If not, you can enter 'n/a'.\n",
            "$2000\n",
            "Thank you for providing your desired price range.\n",
            "\n",
            "Based on the information you have provided, here's a summary of the gathered information:\n",
            "\n",
            "{\n",
            "  \"propertyId\": \"1528252253585581240\",\n",
            "  \"firstName\": \"Benjamin\",\n",
            "  \"lastName\": \"Davis\",\n",
            "  \"email\": \"benjamin@example.com\",\n",
            "  \"telephone\": \"9999999999\",\n",
            "  \"desiredBedrooms\": \"1\",\n",
            "  \"desiredMoveIn\": \"12/21/2023\",\n",
            "  \"desiredPriceLow\": \"$1500\",\n",
            "  \"desiredPriceHigh\": \"$2500\"\n",
            "}\n",
            "\n",
            "Is there anything else you would like to add?\n"
          ]
        },
        {
          "output_type": "execute_result",
          "data": {
            "text/plain": [
              "'{\\n  \"propertyId\": \"1528252253585581240\",\\n  \"firstName\": \"Benjamin\",\\n  \"lastName\": \"Davis\",\\n  \"email\": \"benjamin@example.com\",\\n  \"telephone\": \"9999999999\",\\n  \"desiredBedrooms\": \"1\",\\n  \"desiredMoveIn\": \"12/21/2023\",\\n  \"desiredPriceLow\": \"$1500\",\\n  \"desiredPriceHigh\": \"$2500\"\\n}'"
            ],
            "application/vnd.google.colaboratory.intrinsic+json": {
              "type": "string"
            }
          },
          "metadata": {},
          "execution_count": 25
        }
      ]
    },
    {
      "cell_type": "code",
      "source": [
        "gc_func()"
      ],
      "metadata": {
        "colab": {
          "base_uri": "https://localhost:8080/",
          "height": 209
        },
        "id": "ZGPjDaQ65ChA",
        "outputId": "7b66ea59-dd5e-485f-8fe1-20099188e5aa"
      },
      "execution_count": null,
      "outputs": [
        {
          "output_type": "stream",
          "name": "stdout",
          "text": [
            "Can someone give me a call? My name is Emily Anderson, and my email is emily.anderson@example.com.{ \n",
            "Based on your inputs, here's a summary of the gathered information:\n",
            "{\n",
            "  \"firstName\": \"Emily\",\n",
            "  \"lastName\": \"Anderson\",\n",
            "  \"email\": \"emily.anderson@example.com\",\n",
            "  \"source\": \"Chatbot\"\n",
            "}\n",
            "\n",
            "Is there anything else you would like to add?\n"
          ]
        },
        {
          "output_type": "execute_result",
          "data": {
            "text/plain": [
              "'{\\n  \"firstName\": \"Emily\",\\n  \"lastName\": \"Anderson\",\\n  \"email\": \"emily.anderson@example.com\",\\n  \"source\": \"Chatbot\"\\n}'"
            ],
            "application/vnd.google.colaboratory.intrinsic+json": {
              "type": "string"
            }
          },
          "metadata": {},
          "execution_count": 26
        }
      ]
    },
    {
      "cell_type": "code",
      "source": [
        "gc_func()"
      ],
      "metadata": {
        "colab": {
          "base_uri": "https://localhost:8080/",
          "height": 295
        },
        "id": "hT0JjFal5Coy",
        "outputId": "c51b459e-e7ab-41d6-f356-8a2d60796847"
      },
      "execution_count": null,
      "outputs": [
        {
          "output_type": "stream",
          "name": "stdout",
          "text": [
            "How can I get in touch with you? My name is Sophia Davis, and my email is sophia.davis@example.com.\n",
            "Thank you for providing your name and email, Sophia Davis. To better assist you, may I have your phone number as well?\n",
            "99899998989\n",
            "Thank you for providing your phone number, Sophia Davis. \n",
            "\n",
            "Based on the information you've provided, here's a summary of the gathered information:\n",
            "\n",
            "{\n",
            "  \"firstName\": \"Sophia\",\n",
            "  \"lastName\": \"Davis\",\n",
            "  \"email\": \"sophia.davis@example.com\",\n",
            "  \"telephone\": \"99899998989\"\n",
            "}\n",
            "\n",
            "Is there anything else you would like to add?\n"
          ]
        },
        {
          "output_type": "execute_result",
          "data": {
            "text/plain": [
              "'{\\n  \"firstName\": \"Sophia\",\\n  \"lastName\": \"Davis\",\\n  \"email\": \"sophia.davis@example.com\",\\n  \"telephone\": \"99899998989\"\\n}'"
            ],
            "application/vnd.google.colaboratory.intrinsic+json": {
              "type": "string"
            }
          },
          "metadata": {},
          "execution_count": 27
        }
      ]
    },
    {
      "cell_type": "code",
      "source": [
        "gc_func()"
      ],
      "metadata": {
        "colab": {
          "base_uri": "https://localhost:8080/",
          "height": 347
        },
        "id": "BBFAbT4_5Cu7",
        "outputId": "2ae60293-5371-4735-e4b6-93a4363c2e79"
      },
      "execution_count": null,
      "outputs": [
        {
          "output_type": "stream",
          "name": "stdout",
          "text": [
            "I'm looking for more information. Can someone call me back? My name is Olivia Davis, and my email is olivia.davis@example.com\n",
            "Sure, I can help you with that. Could you please provide me with your phone number?\n",
            "999999999\n",
            "Thank you for providing your phone number. Is there anything else you would like to add to the information?\n",
            "No\n",
            "Based on the information you provided, here's a summary of the gathered information:\n",
            "\n",
            "{\n",
            "  \"propertyId\": \"1528252253585581240\",\n",
            "  \"firstName\": \"Olivia\",\n",
            "  \"lastName\": \"Davis\",\n",
            "  \"email\": \"olivia.davis@example.com\",\n",
            "  \"telephone\": \"999999999\",\n",
            "  \"source\": \"Chatbot\"\n",
            "}\n",
            "\n",
            "Is there anything else you would like to add?\n"
          ]
        },
        {
          "output_type": "execute_result",
          "data": {
            "text/plain": [
              "'{\\n  \"propertyId\": \"1528252253585581240\",\\n  \"firstName\": \"Olivia\",\\n  \"lastName\": \"Davis\",\\n  \"email\": \"olivia.davis@example.com\",\\n  \"telephone\": \"999999999\",\\n  \"source\": \"Chatbot\"\\n}'"
            ],
            "application/vnd.google.colaboratory.intrinsic+json": {
              "type": "string"
            }
          },
          "metadata": {},
          "execution_count": 34
        }
      ]
    },
    {
      "cell_type": "code",
      "source": [
        "gc_func()"
      ],
      "metadata": {
        "colab": {
          "base_uri": "https://localhost:8080/",
          "height": 437
        },
        "id": "vn0W1cFx5C1e",
        "outputId": "7d76722a-abd1-4bf8-866b-d99ca0ec6f95"
      },
      "execution_count": null,
      "outputs": [
        {
          "output_type": "stream",
          "name": "stdout",
          "text": [
            "Can I request a call from your team? My name is Mickel Muse and my budget is $1000 USD.\n",
            "Sure, I can help you with that. Before we proceed, may I have your email address?\n",
            "mickey@gmail.com\n",
            "Thank you for providing your email address. May I also have your phone number?\n",
            "9999999999\n",
            "Thank you for providing your phone number. Just to confirm, your name is Mickel Muse, your budget is $1000 USD, and your email address is mickey@gmail.com. Is that correct?\n",
            "yes\n",
            "Great! Based on the information you provided, here's a summary of the gathered information:\n",
            "\n",
            "{\n",
            "  \"propertyId\": \"1528252253585581240\",\n",
            "  \"firstName\": \"Mickel\",\n",
            "  \"lastName\": \"Muse\",\n",
            "  \"email\": \"mickey@gmail.com\",\n",
            "  \"telephone\": \"9999999999\",\n",
            "  \"desiredPriceLow\": \"$1000\",\n",
            "  \"desiredPriceHigh\": \"$1500\",\n",
            "  \"source\": \"Chatbot\"\n",
            "}\n",
            "\n",
            "Is there anything else you would like to add?\n"
          ]
        },
        {
          "output_type": "execute_result",
          "data": {
            "text/plain": [
              "'{\\n  \"propertyId\": \"1528252253585581240\",\\n  \"firstName\": \"Mickel\",\\n  \"lastName\": \"Muse\",\\n  \"email\": \"mickey@gmail.com\",\\n  \"telephone\": \"9999999999\",\\n  \"desiredPriceLow\": \"$1000\",\\n  \"desiredPriceHigh\": \"$1500\",\\n  \"source\": \"Chatbot\"\\n}'"
            ],
            "application/vnd.google.colaboratory.intrinsic+json": {
              "type": "string"
            }
          },
          "metadata": {},
          "execution_count": 33
        }
      ]
    },
    {
      "cell_type": "code",
      "source": [
        "gc_func()"
      ],
      "metadata": {
        "colab": {
          "base_uri": "https://localhost:8080/",
          "height": 767
        },
        "id": "834K0bxE5C7y",
        "outputId": "7b20dcde-9ac0-4fa6-c213-c0bf3d7a9271"
      },
      "execution_count": null,
      "outputs": [
        {
          "output_type": "stream",
          "name": "stdout",
          "text": [
            "I'd like to speak with someone about the available apartments. Can you give me a call? My name is William , and my email is william.johnson@example.com.\n",
            "Sure, I can assist you with that. Before we proceed, may I have your last name, please?\n",
            "Jhonsan\n",
            "Thank you for providing your last name, William Jhonsan. I have noted it down. \n",
            "\n",
            "To assist you further, may I have your phone number?\n",
            "9999999999\n",
            "Thank you for providing your phone number, William Jhonsan. \n",
            "\n",
            "To better understand your requirements, could you please let me know the number of bedrooms you are looking for?\n",
            "1\n",
            "Thank you for providing the number of bedrooms you are looking for, William Jhonsan. \n",
            "\n",
            "Next, could you please provide me with your desired move-in date?\n",
            "n/a\n",
            "Understood, William Jhonsan. If you don't have a specific move-in date, we can proceed without it. \n",
            "\n",
            "Now, could you please provide me with your desired price range for the apartment?\n",
            "$4000\n",
            "Thank you for providing your desired price range, William Jhonsan. \n",
            "\n",
            "Lastly, is there anything else you would like to add or any additional comments you would like to provide?\n",
            "No\n",
            "Thank you for providing all the necessary information, William Jhonsan. \n",
            "\n",
            "Based on your inputs, here's a summary of the gathered information:\n",
            "\n",
            "{\n",
            "  \"propertyId\": \"1528252253585581240\",\n",
            "  \"firstName\": \"William\",\n",
            "  \"lastName\": \"Jhonsan\",\n",
            "  \"email\": \"william.johnson@example.com\",\n",
            "  \"telephone\": \"9999999999\",\n",
            "  \"desiredBedrooms\": \"1\",\n",
            "  \"desiredPriceLow\": \"$3500\",\n",
            "  \"desiredPriceHigh\": \"$4500\",\n",
            "  \"source\": \"Chatbot\"\n",
            "}\n",
            "\n",
            "Is there anything else you would like to add?\n"
          ]
        },
        {
          "output_type": "execute_result",
          "data": {
            "text/plain": [
              "'{\\n  \"propertyId\": \"1528252253585581240\",\\n  \"firstName\": \"William\",\\n  \"lastName\": \"Jhonsan\",\\n  \"email\": \"william.johnson@example.com\",\\n  \"telephone\": \"9999999999\",\\n  \"desiredBedrooms\": \"1\",\\n  \"desiredPriceLow\": \"$3500\",\\n  \"desiredPriceHigh\": \"$4500\",\\n  \"source\": \"Chatbot\"\\n}'"
            ],
            "application/vnd.google.colaboratory.intrinsic+json": {
              "type": "string"
            }
          },
          "metadata": {},
          "execution_count": 36
        }
      ]
    },
    {
      "cell_type": "code",
      "source": [
        "gc_func()"
      ],
      "metadata": {
        "colab": {
          "base_uri": "https://localhost:8080/",
          "height": 330
        },
        "id": "Soj4Dlpp5DBi",
        "outputId": "079c4399-a347-402d-a8ca-5b994d6e23f1"
      },
      "execution_count": null,
      "outputs": [
        {
          "output_type": "stream",
          "name": "stdout",
          "text": [
            "Can you provide me with your contact information? My name is Sophia Thompson, and my email is sophia.thompson@example.com.\n",
            "Thank you for providing your contact information, Sophia Thompson. I have your first name as Sophia and your last name as Thompson. Is that correct?\n",
            "yes\n",
            "Great! I have your first name as Sophia and your last name as Thompson. \n",
            "\n",
            "Is there anything else you would like to add to the information?\n",
            "No\n",
            "Alright, based on the information provided, here's a summary of the gathered information:\n",
            "\n",
            "{\n",
            "  \"propertyId\": \"1528252253585581240\",\n",
            "  \"firstName\": \"Sophia\",\n",
            "  \"lastName\": \"Thompson\",\n",
            "  \"email\": \"sophia.thompson@example.com\"\n",
            "}\n",
            "\n",
            "Is there anything else you would like to add?\n"
          ]
        },
        {
          "output_type": "execute_result",
          "data": {
            "text/plain": [
              "'{\\n  \"propertyId\": \"1528252253585581240\",\\n  \"firstName\": \"Sophia\",\\n  \"lastName\": \"Thompson\",\\n  \"email\": \"sophia.thompson@example.com\"\\n}'"
            ],
            "application/vnd.google.colaboratory.intrinsic+json": {
              "type": "string"
            }
          },
          "metadata": {},
          "execution_count": 37
        }
      ]
    },
    {
      "cell_type": "code",
      "source": [
        "gc_func()"
      ],
      "metadata": {
        "colab": {
          "base_uri": "https://localhost:8080/",
          "height": 313
        },
        "id": "Ys3NbFgF5DHJ",
        "outputId": "9b9e9d73-8066-4f77-890e-17122655cdad"
      },
      "execution_count": null,
      "outputs": [
        {
          "output_type": "stream",
          "name": "stdout",
          "text": [
            "I have some questions about the property. Can someone reach out to me? My name is Jacob Wilson, and my email is jacob.wilson@example.com.\n",
            "Sure, I can help you with that. Before we proceed, may I know your phone number?\n",
            "999999999\n",
            "Thank you for providing your phone number. \n",
            "\n",
            "Based on the information you provided, here's a summary of the gathered information:\n",
            "\n",
            "{\n",
            "  \"firstName\": \"Jacob\",\n",
            "  \"lastName\": \"Wilson\",\n",
            "  \"email\": \"jacob.wilson@example.com\",\n",
            "  \"telephone\": \"999999999\",\n",
            "  \"source\": \"Chatbot\"\n",
            "}\n",
            "\n",
            "Is there anything else you would like to add?\n"
          ]
        },
        {
          "output_type": "execute_result",
          "data": {
            "text/plain": [
              "'{\\n  \"firstName\": \"Jacob\",\\n  \"lastName\": \"Wilson\",\\n  \"email\": \"jacob.wilson@example.com\",\\n  \"telephone\": \"999999999\",\\n  \"source\": \"Chatbot\"\\n}'"
            ],
            "application/vnd.google.colaboratory.intrinsic+json": {
              "type": "string"
            }
          },
          "metadata": {},
          "execution_count": 38
        }
      ]
    },
    {
      "cell_type": "code",
      "source": [
        "gc_func()"
      ],
      "metadata": {
        "colab": {
          "base_uri": "https://localhost:8080/",
          "height": 347
        },
        "id": "J1EpaaVl5DNe",
        "outputId": "578d368d-e955-4699-f0de-0417b3fec46a"
      },
      "execution_count": null,
      "outputs": [
        {
          "output_type": "stream",
          "name": "stdout",
          "text": [
            "I would like to discuss the available units. Can you call me back? My name is Olivia Smith, and my email is olivia.smith@example.com.\n",
            "Sure, I can help you with that. Before we proceed, may I have your phone number, please?\n",
            "999999999\n",
            "Thank you for providing your phone number. I will make sure to include it in the information. Is there anything else you would like to add?\n",
            "No\n",
            "Based on the information you provided, here's a summary of the gathered information:\n",
            "\n",
            "{\n",
            "  \"propertyId\": \"1528252253585581240\",\n",
            "  \"firstName\": \"Olivia\",\n",
            "  \"lastName\": \"Smith\",\n",
            "  \"email\": \"olivia.smith@example.com\",\n",
            "  \"telephone\": \"999999999\",\n",
            "  \"source\": \"Chatbot\"\n",
            "}\n",
            "\n",
            "Is there anything else you would like to add?\n"
          ]
        },
        {
          "output_type": "execute_result",
          "data": {
            "text/plain": [
              "'{\\n  \"propertyId\": \"1528252253585581240\",\\n  \"firstName\": \"Olivia\",\\n  \"lastName\": \"Smith\",\\n  \"email\": \"olivia.smith@example.com\",\\n  \"telephone\": \"999999999\",\\n  \"source\": \"Chatbot\"\\n}'"
            ],
            "application/vnd.google.colaboratory.intrinsic+json": {
              "type": "string"
            }
          },
          "metadata": {},
          "execution_count": 39
        }
      ]
    },
    {
      "cell_type": "code",
      "source": [
        "gc_func()"
      ],
      "metadata": {
        "colab": {
          "base_uri": "https://localhost:8080/",
          "height": 506
        },
        "id": "CsTx-gqa5DUR",
        "outputId": "40833327-53ab-420c-acc1-c25cf59e8880"
      },
      "execution_count": null,
      "outputs": [
        {
          "output_type": "stream",
          "name": "stdout",
          "text": [
            "Can you give me a call? My name is William Johnson, and my email is william.johnson@example.com and my budget is $4000.\n",
            "Sure, I can give you a call. Before that, could you please provide me with your phone number?\n",
            "999999999\n",
            "Thank you for providing your phone number. I will give you a call shortly. Just to confirm, your name is William Johnson and your email is william.johnson@example.com. Is that correct?\n",
            "Yes\n",
            "Great! I have gathered the following information:\n",
            "\n",
            "- First Name: William\n",
            "- Last Name: Johnson\n",
            "- Email: william.johnson@example.com\n",
            "- Phone Number: 999999999\n",
            "- Desired Price Range: $3500 - $4500 (converted from $4000)\n",
            "\n",
            "Based on your inputs, here's a summary of the gathered information:\n",
            "{\n",
            "  \"firstName\": \"William\",\n",
            "  \"lastName\": \"Johnson\",\n",
            "  \"email\": \"william.johnson@example.com\",\n",
            "  \"telephone\": \"999999999\",\n",
            "  \"desiredPriceLow\": \"$3500\",\n",
            "  \"desiredPriceHigh\": \"$4500\",\n",
            "  \"source\": \"Chatbot\"\n",
            "}\n",
            "\n",
            "Is there anything else you would like to add?\n"
          ]
        },
        {
          "output_type": "execute_result",
          "data": {
            "text/plain": [
              "'{\\n  \"firstName\": \"William\",\\n  \"lastName\": \"Johnson\",\\n  \"email\": \"william.johnson@example.com\",\\n  \"telephone\": \"999999999\",\\n  \"desiredPriceLow\": \"$3500\",\\n  \"desiredPriceHigh\": \"$4500\",\\n  \"source\": \"Chatbot\"\\n}'"
            ],
            "application/vnd.google.colaboratory.intrinsic+json": {
              "type": "string"
            }
          },
          "metadata": {},
          "execution_count": 40
        }
      ]
    },
    {
      "cell_type": "code",
      "source": [
        "gc_func()"
      ],
      "metadata": {
        "colab": {
          "base_uri": "https://localhost:8080/",
          "height": 402
        },
        "id": "u63wyYbK5DbD",
        "outputId": "137ebc25-3038-4c43-9243-85945229acc9"
      },
      "execution_count": null,
      "outputs": [
        {
          "output_type": "stream",
          "name": "stdout",
          "text": [
            "Can I get a call back? My name is Robert Johnson and my email is robert@example.com.\n",
            "Sure, I can help you with that. May I have your phone number, please?\n",
            "9898765788\n",
            "Thank you for providing your phone number. Is there anything else you would like to add to the information?\n",
            "I want to ask about amenties \n",
            "Thank you for your interest in the property. I will make a note to inquire about the amenities for you. Is there anything else you would like to add to the information?\n",
            "No\n",
            "Based on the information you provided, here's a summary of the gathered information:\n",
            "\n",
            "{\n",
            "  \"propertyId\": \"1528252253585581240\",\n",
            "  \"firstName\": \"Robert\",\n",
            "  \"lastName\": \"Johnson\",\n",
            "  \"email\": \"robert@example.com\",\n",
            "  \"telephone\": \"9898765788\",\n",
            "  \"source\": \"Chatbot\"\n",
            "}\n",
            "\n",
            "Is there anything else you would like to add?\n"
          ]
        },
        {
          "output_type": "execute_result",
          "data": {
            "text/plain": [
              "'{\\n  \"propertyId\": \"1528252253585581240\",\\n  \"firstName\": \"Robert\",\\n  \"lastName\": \"Johnson\",\\n  \"email\": \"robert@example.com\",\\n  \"telephone\": \"9898765788\",\\n  \"source\": \"Chatbot\"\\n}'"
            ],
            "application/vnd.google.colaboratory.intrinsic+json": {
              "type": "string"
            }
          },
          "metadata": {},
          "execution_count": 41
        }
      ]
    },
    {
      "cell_type": "code",
      "source": [
        "gc_func()"
      ],
      "metadata": {
        "colab": {
          "base_uri": "https://localhost:8080/",
          "height": 263
        },
        "id": "FCyequ0n5Dgn",
        "outputId": "74c27a47-ee09-4c9e-e256-8febe7721d94"
      },
      "execution_count": null,
      "outputs": [
        {
          "output_type": "stream",
          "name": "stdout",
          "text": [
            "How can I reach you to discuss this matter further? My name is Samantha Brown and my email is samantha@example.com.\n",
            "Thank you for providing your name and email, Samantha Brown. To ensure I have your contact information correctly, could you please confirm your full name and email address?\n",
            "yes\n",
            "Great! Here's a summary of the gathered information so far:\n",
            "\n",
            "{\n",
            "  \"firstName\": \"Samantha\",\n",
            "  \"lastName\": \"Brown\",\n",
            "  \"email\": \"samantha@example.com\"\n",
            "}\n",
            "\n",
            "Is there anything else you would like to add?\n"
          ]
        },
        {
          "output_type": "execute_result",
          "data": {
            "text/plain": [
              "'{\\n  \"firstName\": \"Samantha\",\\n  \"lastName\": \"Brown\",\\n  \"email\": \"samantha@example.com\"\\n}'"
            ],
            "application/vnd.google.colaboratory.intrinsic+json": {
              "type": "string"
            }
          },
          "metadata": {},
          "execution_count": 42
        }
      ]
    },
    {
      "cell_type": "code",
      "source": [
        "gc_func()"
      ],
      "metadata": {
        "colab": {
          "base_uri": "https://localhost:8080/",
          "height": 330
        },
        "id": "DIlmv4_75DnY",
        "outputId": "d7a9aaec-11d5-4868-cd6e-23ef0c4541b4"
      },
      "execution_count": null,
      "outputs": [
        {
          "output_type": "stream",
          "name": "stdout",
          "text": [
            "Please let me know the best way to contact you. My name is Matthew Davis and my email is matthew@example.com.\n",
            "Thank you for providing your contact information, Matthew. To better assist you, may I know your phone number as well?\n",
            "9898765678\n",
            "Thank you for providing your phone number, Matthew. \n",
            "\n",
            "Based on the information you provided, here's a summary of the gathered information:\n",
            "\n",
            "{\n",
            "  \"propertyId\": \"1528252253585581240\",\n",
            "  \"firstName\": \"Matthew\",\n",
            "  \"lastName\": \"Davis\",\n",
            "  \"email\": \"matthew@example.com\",\n",
            "  \"telephone\": \"9898765678\"\n",
            "}\n",
            "\n",
            "Is there anything else you would like to add?\n"
          ]
        },
        {
          "output_type": "execute_result",
          "data": {
            "text/plain": [
              "'{\\n  \"propertyId\": \"1528252253585581240\",\\n  \"firstName\": \"Matthew\",\\n  \"lastName\": \"Davis\",\\n  \"email\": \"matthew@example.com\",\\n  \"telephone\": \"9898765678\"\\n}'"
            ],
            "application/vnd.google.colaboratory.intrinsic+json": {
              "type": "string"
            }
          },
          "metadata": {},
          "execution_count": 46
        }
      ]
    },
    {
      "cell_type": "code",
      "source": [
        "gc_func()"
      ],
      "metadata": {
        "colab": {
          "base_uri": "https://localhost:8080/",
          "height": 278
        },
        "id": "dxr-xuUC5Dtf",
        "outputId": "ef4b61dc-e3d9-4c85-f0b0-4dc096d64cba"
      },
      "execution_count": null,
      "outputs": [
        {
          "output_type": "stream",
          "name": "stdout",
          "text": [
            "Hi, my name is John Smith and my email is john@example.com. I'm interested in a two-bedroom apartment with a price range of $1500 to $2000.\n",
            "Great, John! I have gathered some information from you. Let me confirm what I have so far:\n",
            "\n",
            "{\n",
            "  \"firstName\": \"John\",\n",
            "  \"lastName\": \"Smith\",\n",
            "  \"email\": \"john@example.com\",\n",
            "  \"desiredBedrooms\": \"2\",\n",
            "  \"desiredPriceLow\": \"$1500\",\n",
            "  \"desiredPriceHigh\": \"$2000\"\n",
            "}\n",
            "\n",
            "Is there anything else you would like to add?\n"
          ]
        },
        {
          "output_type": "execute_result",
          "data": {
            "text/plain": [
              "'{\\n  \"firstName\": \"John\",\\n  \"lastName\": \"Smith\",\\n  \"email\": \"john@example.com\",\\n  \"desiredBedrooms\": \"2\",\\n  \"desiredPriceLow\": \"$1500\",\\n  \"desiredPriceHigh\": \"$2000\"\\n}'"
            ],
            "application/vnd.google.colaboratory.intrinsic+json": {
              "type": "string"
            }
          },
          "metadata": {},
          "execution_count": 47
        }
      ]
    },
    {
      "cell_type": "code",
      "source": [
        "gc_func()"
      ],
      "metadata": {
        "colab": {
          "base_uri": "https://localhost:8080/",
          "height": 350
        },
        "id": "T8UMy8Y25Dzi",
        "outputId": "f8dbb3f3-620f-4328-a09a-a6239d82965a"
      },
      "execution_count": null,
      "outputs": [
        {
          "output_type": "stream",
          "name": "stdout",
          "text": [
            "Can someone call me back? My name is Jennifer Smith and my email is jennifer@example.com.\n",
            "Sure, I can help you with that. Before we proceed, may I know your phone number?\n",
            "234598765\n",
            "Thank you for providing your phone number. To confirm, your name is Jennifer Smith, your email is jennifer@example.com, and your phone number is 234598765. Is that correct?\n",
            "yes\n",
            "Great! Here's a summary of the gathered information:\n",
            "\n",
            "{\n",
            "  \"propertyId\": \"1528252253585581240\",\n",
            "  \"firstName\": \"Jennifer\",\n",
            "  \"lastName\": \"Smith\",\n",
            "  \"email\": \"jennifer@example.com\",\n",
            "  \"telephone\": \"234598765\"\n",
            "}\n",
            "\n",
            "Is there anything else you would like to add?\n"
          ]
        },
        {
          "output_type": "execute_result",
          "data": {
            "text/plain": [
              "'{\\n  \"propertyId\": \"1528252253585581240\",\\n  \"firstName\": \"Jennifer\",\\n  \"lastName\": \"Smith\",\\n  \"email\": \"jennifer@example.com\",\\n  \"telephone\": \"234598765\"\\n}'"
            ],
            "application/vnd.google.colaboratory.intrinsic+json": {
              "type": "string"
            }
          },
          "metadata": {},
          "execution_count": 48
        }
      ]
    },
    {
      "cell_type": "code",
      "source": [
        "gc_func()"
      ],
      "metadata": {
        "colab": {
          "base_uri": "https://localhost:8080/",
          "height": 281
        },
        "id": "0qMLPxWL5D5m",
        "outputId": "a47653a6-9207-4c46-a9f6-20239fc58644"
      },
      "execution_count": null,
      "outputs": [
        {
          "output_type": "stream",
          "name": "stdout",
          "text": [
            "Hello, my name is John Smith. My email address is 'johnsmith@example.com'. I want to move in by 'August 15th, 2023' and I'm looking for a 2-bedroom apartment\n",
            "Great! I have gathered some information from you. Here's a summary of what I have so far:\n",
            "\n",
            "{\n",
            "  \"firstName\": \"John\",\n",
            "  \"lastName\": \"Smith\",\n",
            "  \"email\": \"johnsmith@example.com\",\n",
            "  \"desiredBedrooms\": \"2\",\n",
            "  \"desiredMoveIn\": \"08/15/2023\"\n",
            "}\n",
            "\n",
            "Is there anything else you would like to add?\n"
          ]
        },
        {
          "output_type": "execute_result",
          "data": {
            "text/plain": [
              "'{\\n  \"firstName\": \"John\",\\n  \"lastName\": \"Smith\",\\n  \"email\": \"johnsmith@example.com\",\\n  \"desiredBedrooms\": \"2\",\\n  \"desiredMoveIn\": \"08/15/2023\"\\n}'"
            ],
            "application/vnd.google.colaboratory.intrinsic+json": {
              "type": "string"
            }
          },
          "metadata": {},
          "execution_count": 49
        }
      ]
    },
    {
      "cell_type": "code",
      "source": [
        "gc_func()"
      ],
      "metadata": {
        "colab": {
          "base_uri": "https://localhost:8080/",
          "height": 350
        },
        "id": "X5U1-rwI5D_c",
        "outputId": "1f1ade38-5558-45f9-9d3d-e875be4ce10b"
      },
      "execution_count": null,
      "outputs": [
        {
          "output_type": "stream",
          "name": "stdout",
          "text": [
            "Call me - 9160102134. My name is Olivia Wilson, my price range is below $4000 and my email is olivia@example.com.\n",
            "Thank you for providing your information. Just to confirm, your name is Olivia Wilson, your phone number is 9160102134, your email is olivia@example.com, and your desired price range is below $4000. Is that correct?\n",
            "Yes\n",
            "Great! Here's a summary of the gathered information:\n",
            "\n",
            "{\n",
            "  \"propertyId\": \"1528252253585581240\",\n",
            "  \"firstName\": \"Olivia\",\n",
            "  \"lastName\": \"Wilson\",\n",
            "  \"email\": \"olivia@example.com\",\n",
            "  \"telephone\": \"9160102134\",\n",
            "  \"desiredPriceLow\": \"$3500\",\n",
            "  \"desiredPriceHigh\": \"$4500\"\n",
            "}\n",
            "\n",
            "Is there anything else you would like to add?\n"
          ]
        },
        {
          "output_type": "execute_result",
          "data": {
            "text/plain": [
              "'{\\n  \"propertyId\": \"1528252253585581240\",\\n  \"firstName\": \"Olivia\",\\n  \"lastName\": \"Wilson\",\\n  \"email\": \"olivia@example.com\",\\n  \"telephone\": \"9160102134\",\\n  \"desiredPriceLow\": \"$3500\",\\n  \"desiredPriceHigh\": \"$4500\"\\n}'"
            ],
            "application/vnd.google.colaboratory.intrinsic+json": {
              "type": "string"
            }
          },
          "metadata": {},
          "execution_count": 50
        }
      ]
    },
    {
      "cell_type": "code",
      "source": [
        "gc_func()"
      ],
      "metadata": {
        "colab": {
          "base_uri": "https://localhost:8080/",
          "height": 263
        },
        "id": "SXezdG0_5EFF",
        "outputId": "9d9ab15f-5ec5-41ff-f17c-f4fa0ddf4eae"
      },
      "execution_count": null,
      "outputs": [
        {
          "output_type": "stream",
          "name": "stdout",
          "text": [
            "Hi, I'm Jennifer Wilson, and I'm looking for both 1-bedroom and 2-bedroom apartments. You can reach me at 'jennifer.wilson@example.com'. What are my options? I plan to move in on 'July 15th, 2023'\n",
            "Based on your inputs, here's a summary of the gathered information:\n",
            "{\n",
            "  \"firstName\": \"Jennifer\",\n",
            "  \"lastName\": \"Wilson\",\n",
            "  \"email\": \"jennifer.wilson@example.com\",\n",
            "  \"desiredBedrooms\": \"1,2\",\n",
            "  \"desiredMoveIn\": \"07/15/2023\"\n",
            "}\n",
            "\n",
            "Is there anything else you would like to add?\n"
          ]
        },
        {
          "output_type": "execute_result",
          "data": {
            "text/plain": [
              "'{\\n  \"firstName\": \"Jennifer\",\\n  \"lastName\": \"Wilson\",\\n  \"email\": \"jennifer.wilson@example.com\",\\n  \"desiredBedrooms\": \"1,2\",\\n  \"desiredMoveIn\": \"07/15/2023\"\\n}'"
            ],
            "application/vnd.google.colaboratory.intrinsic+json": {
              "type": "string"
            }
          },
          "metadata": {},
          "execution_count": 51
        }
      ]
    },
    {
      "cell_type": "code",
      "source": [
        "gc_func()"
      ],
      "metadata": {
        "colab": {
          "base_uri": "https://localhost:8080/",
          "height": 281
        },
        "id": "jM8PhY-o5ELU",
        "outputId": "6779e076-d894-4c77-ef23-f3e13e05d969"
      },
      "execution_count": null,
      "outputs": [
        {
          "output_type": "stream",
          "name": "stdout",
          "text": [
            "My name is James Anderson, and my email is 'james.anderson@example.com'. I'm interested in a studio apartment. My preferred move-in date is 'November 1st, 2023'.\n",
            "Great! I have gathered some information from you. Here's a summary of what I have so far:\n",
            "\n",
            "{\n",
            "  \"firstName\": \"James\",\n",
            "  \"lastName\": \"Anderson\",\n",
            "  \"email\": \"james.anderson@example.com\",\n",
            "  \"desiredBedrooms\": \"0\",\n",
            "  \"desiredMoveIn\": \"11/01/2023\"\n",
            "}\n",
            "\n",
            "Is there anything else you would like to add?\n"
          ]
        },
        {
          "output_type": "execute_result",
          "data": {
            "text/plain": [
              "'{\\n  \"firstName\": \"James\",\\n  \"lastName\": \"Anderson\",\\n  \"email\": \"james.anderson@example.com\",\\n  \"desiredBedrooms\": \"0\",\\n  \"desiredMoveIn\": \"11/01/2023\"\\n}'"
            ],
            "application/vnd.google.colaboratory.intrinsic+json": {
              "type": "string"
            }
          },
          "metadata": {},
          "execution_count": 52
        }
      ]
    },
    {
      "cell_type": "code",
      "source": [
        "gc_func()"
      ],
      "metadata": {
        "colab": {
          "base_uri": "https://localhost:8080/",
          "height": 281
        },
        "id": "LmIqUgA75ERi",
        "outputId": "4dcf1932-ed0b-4a18-f185-ef8592a505b1"
      },
      "execution_count": null,
      "outputs": [
        {
          "output_type": "stream",
          "name": "stdout",
          "text": [
            " Hello, I'm Emily Davis. You can reach me at 'emily.davis@gmail.com'. I'd like to move in on 'July 15th, 2023'. I'm open to both 1-bedroom and 2-bedroom apartments.\n",
            "Based on your inputs, here's a summary of the gathered information:\n",
            "{\n",
            "  \"firstName\": \"Emily\",\n",
            "  \"lastName\": \"Davis\",\n",
            "  \"email\": \"emily.davis@gmail.com\",\n",
            "  \"desiredMoveIn\": \"07/15/2023\",\n",
            "  \"desiredBedrooms\": \"1 or 2\",\n",
            "  \"source\": \"Chatbot\"\n",
            "}\n",
            "\n",
            "Is there anything else you would like to add?\n"
          ]
        },
        {
          "output_type": "execute_result",
          "data": {
            "text/plain": [
              "'{\\n  \"firstName\": \"Emily\",\\n  \"lastName\": \"Davis\",\\n  \"email\": \"emily.davis@gmail.com\",\\n  \"desiredMoveIn\": \"07/15/2023\",\\n  \"desiredBedrooms\": \"1 or 2\",\\n  \"source\": \"Chatbot\"\\n}'"
            ],
            "application/vnd.google.colaboratory.intrinsic+json": {
              "type": "string"
            }
          },
          "metadata": {},
          "execution_count": 53
        }
      ]
    },
    {
      "cell_type": "code",
      "source": [
        "gc_func()"
      ],
      "metadata": {
        "colab": {
          "base_uri": "https://localhost:8080/",
          "height": 767
        },
        "id": "kh41pk2A5EXL",
        "outputId": "459c1ebb-2fd0-4e07-8682-9b20cedf7c32"
      },
      "execution_count": null,
      "outputs": [
        {
          "output_type": "stream",
          "name": "stdout",
          "text": [
            "Can someone reach out to me? I'm available 9 am-2 pm on weekdays.\n",
            "Sure, I can help you with that. Before we proceed, I need to gather some information from you. Let's start with your first name.\n",
            "Tamy\n",
            "Thank you for providing your first name, Tamy. Now, may I have your last name, please?\n",
            "koki\n",
            "Thank you for providing your last name, Tamy Koki. Now, I need your email address to contact you. Could you please provide your email?\n",
            "kokila@gmail.com\n",
            "Thank you for providing your email address, Tamy Koki. To better assist you, I also need your phone number. Could you please provide your phone number?\n",
            "999999999\n",
            "Thank you for providing your phone number, Tamy Koki. \n",
            "\n",
            "Now, let's move on to the optional fields. If you have any specific requirements for the number of bedrooms, please let me know. If not, you can simply type 'n/a'.\n",
            "1\n",
            "Thank you for letting me know that you are looking for 1 bedroom. \n",
            "\n",
            "Next, could you please provide me with your desired move-in date? If you don't have a specific date in mind, you can enter 'n/a'.\n",
            "n/a\n",
            "Noted. If you have a specific price range in mind for the property, please provide the low and high ends of the range. If you have a single amount in mind, I can convert it to a range by subtracting and adding $500. If you don't have a specific price range, you can enter 'n/a'.\n",
            "$2000\n",
            "Thank you for providing the rent amount, Tamy Koki. I will convert it to a range by subtracting and adding $500. \n",
            "\n",
            "Based on your input, the desired price range is $1500 to $2500. \n",
            "\n",
            "Is there anything else you would like to add to the information we have gathered so far?\n",
            "No\n",
            "Thank you for providing all the necessary information, Tamy Koki. Here's a summary of the gathered information:\n",
            "\n",
            "{\n",
            "  \"propertyId\": \"1528252253585581240\",\n",
            "  \"firstName\": \"Tamy\",\n",
            "  \"lastName\": \"Koki\",\n",
            "  \"email\": \"kokila@gmail.com\",\n",
            "  \"telephone\": \"999999999\",\n",
            "  \"desiredBedrooms\": \"1\",\n",
            "  \"desiredMoveIn\": \"n/a\",\n",
            "  \"desiredPriceLow\": \"$1500\",\n",
            "  \"desiredPriceHigh\": \"$2500\"\n",
            "}\n",
            "\n",
            "If you have any additional comments or if there's anything else you would like to include, please let me know.\n"
          ]
        },
        {
          "output_type": "execute_result",
          "data": {
            "text/plain": [
              "'{\\n  \"propertyId\": \"1528252253585581240\",\\n  \"firstName\": \"Tamy\",\\n  \"lastName\": \"Koki\",\\n  \"email\": \"kokila@gmail.com\",\\n  \"telephone\": \"999999999\",\\n  \"desiredBedrooms\": \"1\",\\n  \"desiredMoveIn\": \"n/a\",\\n  \"desiredPriceLow\": \"$1500\",\\n  \"desiredPriceHigh\": \"$2500\"\\n}'"
            ],
            "application/vnd.google.colaboratory.intrinsic+json": {
              "type": "string"
            }
          },
          "metadata": {},
          "execution_count": 55
        }
      ]
    },
    {
      "cell_type": "code",
      "source": [
        "gc_func()"
      ],
      "metadata": {
        "colab": {
          "base_uri": "https://localhost:8080/",
          "height": 556
        },
        "id": "JEMrlzPE5EdR",
        "outputId": "dd0d0d4a-ca60-4139-f3a8-9cd00ee85a63"
      },
      "execution_count": null,
      "outputs": [
        {
          "output_type": "stream",
          "name": "stdout",
          "text": [
            "How do I contact the property owner or agent?\n",
            "To contact the property owner or agent, I will need some information from you. Let's start with your first name.\n",
            "Ram Tara\n",
            "Thank you for providing your first name, Ram Tara. May I have your last name, please?\n",
            "Ram tara Bargail\n",
            "Thank you for providing your last name, Ram Tara Bargail. Could you please provide me with your email address?\n",
            "gogo@gg.com\n",
            "Thank you for providing your email address, gogo@gg.com. \n",
            "\n",
            "Now, I need to gather some optional information. If you would like to provide any of the following details, please let me know:\n",
            "\n",
            "- Desired number of bedrooms\n",
            "- Desired move-in date\n",
            "- Desired price range (low and high)\n",
            "- Phone number\n",
            "\n",
            "Please let me know which details you would like to provide, or if you have any additional comments or questions.\n",
            "No\n",
            "Alright, no problem. \n",
            "\n",
            "Based on the information you have provided, here's a summary of the gathered information:\n",
            "\n",
            "{\n",
            "  \"propertyId\": \"1528252253585581240\",\n",
            "  \"firstName\": \"Ram Tara\",\n",
            "  \"lastName\": \"Bargail\",\n",
            "  \"email\": \"gogo@gg.com\"\n",
            "}\n",
            "\n",
            "Is there anything else you would like to add to this information?\n"
          ]
        },
        {
          "output_type": "execute_result",
          "data": {
            "text/plain": [
              "'{\\n  \"propertyId\": \"1528252253585581240\",\\n  \"firstName\": \"Ram Tara\",\\n  \"lastName\": \"Bargail\",\\n  \"email\": \"gogo@gg.com\"\\n}'"
            ],
            "application/vnd.google.colaboratory.intrinsic+json": {
              "type": "string"
            }
          },
          "metadata": {},
          "execution_count": 56
        }
      ]
    },
    {
      "cell_type": "code",
      "source": [
        "gc_func()"
      ],
      "metadata": {
        "colab": {
          "base_uri": "https://localhost:8080/",
          "height": 191
        },
        "id": "fTGuxVq35EiW",
        "outputId": "38e56842-6e72-468a-9107-13aa69cd37ee"
      },
      "execution_count": null,
      "outputs": [
        {
          "output_type": "stream",
          "name": "stdout",
          "text": [
            "Can someone call me at 9160102134\n",
            "Sure, I will note down your phone number as 9160102134. Is there anything else you would like to add?\n",
            "No\n",
            "Based on your inputs, here's a summary of the gathered information:\n",
            "{\n",
            "  \"telephone\": \"9160102134\"\n",
            "}\n",
            "\n",
            "Is there anything else you would like to add?\n"
          ]
        },
        {
          "output_type": "execute_result",
          "data": {
            "text/plain": [
              "'{\\n  \"telephone\": \"9160102134\"\\n}'"
            ],
            "application/vnd.google.colaboratory.intrinsic+json": {
              "type": "string"
            }
          },
          "metadata": {},
          "execution_count": 57
        }
      ]
    }
  ],
  "metadata": {
    "colab": {
      "provenance": [],
      "authorship_tag": "ABX9TyNSvq32hwIOas7plNRcxe43",
      "include_colab_link": true
    },
    "kernelspec": {
      "display_name": "Python 3",
      "name": "python3"
    },
    "language_info": {
      "name": "python"
    }
  },
  "nbformat": 4,
  "nbformat_minor": 0
}